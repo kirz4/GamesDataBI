{
 "cells": [
  {
   "cell_type": "code",
   "execution_count": 2,
   "metadata": {},
   "outputs": [],
   "source": [
    "from create_duckdb import create_table_from_csv\n",
    "\n",
    "# Caminho do banco DuckDB\n",
    "db_file = \"games_relational.duckdb\""
   ]
  },
  {
   "cell_type": "code",
   "execution_count": 3,
   "metadata": {},
   "outputs": [
    {
     "name": "stdout",
     "output_type": "stream",
     "text": [
      "Tabela 'games' criada com sucesso! 109 registros importados.\n",
      "Tabela 'steam_games' criada com sucesso! 1500 registros importados.\n"
     ]
    }
   ],
   "source": [
    "# Criando as tabelas a partir dos CSVs\n",
    "status_games = create_table_from_csv(\"Games.csv\", \"games\", db_file)\n",
    "status_steam_games = create_table_from_csv(\"Steam_2024_bestRevenue_1500.csv\", \"steam_games\", db_file)\n",
    "\n",
    "print(status_games)\n",
    "print(status_steam_games)"
   ]
  },
  {
   "cell_type": "code",
   "execution_count": 4,
   "metadata": {},
   "outputs": [],
   "source": [
    "# Conectando ao banco para consulta\n",
    "import duckdb\n",
    "con = duckdb.connect(db_file)"
   ]
  },
  {
   "cell_type": "code",
   "execution_count": 5,
   "metadata": {},
   "outputs": [
    {
     "name": "stdout",
     "output_type": "stream",
     "text": [
      "Dados da tabela 'games':\n",
      "   Rank                       Name Platform  Year         Genre Publisher  \\\n",
      "0     1                 Wii Sports      Wii  2006        Sports  Nintendo   \n",
      "1     2          Super Mario Bros.      NES  1985      Platform  Nintendo   \n",
      "2     3             Mario Kart Wii      Wii  2008        Racing  Nintendo   \n",
      "3     4          Wii Sports Resort      Wii  2009        Sports  Nintendo   \n",
      "4     5   Pokemon Red/Pokemon Blue       GB  1996  Role-Playing  Nintendo   \n",
      "5     6                     Tetris       GB  1989        Puzzle  Nintendo   \n",
      "6     7      New Super Mario Bros.       DS  2006      Platform  Nintendo   \n",
      "7     8                   Wii Play      Wii  2006          Misc  Nintendo   \n",
      "8     9  New Super Mario Bros. Wii      Wii  2009      Platform  Nintendo   \n",
      "9    10                  Duck Hunt      NES  1984       Shooter  Nintendo   \n",
      "\n",
      "  NA_Sales EU_Sales JP_Sales Other_Sales Global_Sales  \n",
      "0    41.49    29.02     3.77        8.46        82.74  \n",
      "1    29.08     3.58     6.81        0.77        40.24  \n",
      "2    15.85    12.88     3.79        3.31        35.82  \n",
      "3    15.75    11.01     3.28        2.96           33  \n",
      "4    11.27     8.89    10.22           1        31.37  \n",
      "5     23.2     2.26     4.22        0.58        30.26  \n",
      "6    11.38     9.23      6.5         2.9        30.01  \n",
      "7    14.03      9.2     2.93        2.85        29.02  \n",
      "8    14.59    07.06      4.7        2.26        28.62  \n",
      "9    26.93     0.63     0.28        0.47        28.31  \n",
      "\n",
      "Dados da tabela 'steam_games':\n",
      "                              name releaseDate  copiesSold  price    revenue  \\\n",
      "0                         WWE 2K24  2024-03-07      165301  99.99  8055097.0   \n",
      "1            EARTH DEFENSE FORCE 6  2024-07-25      159806  59.99  7882151.0   \n",
      "2        Sins of a Solar Empire II  2024-08-15      214192  49.99  7815247.0   \n",
      "3                 Legend of Mortal  2024-06-14      440998  19.99  7756399.0   \n",
      "4  Shin Megami Tensei V: Vengeance  2024-06-13      141306  59.99  7629252.0   \n",
      "5                         Soulmask  2024-05-30      304685  29.99  7540563.0   \n",
      "6                    The Universim  2024-01-22      328945  29.99  7534369.0   \n",
      "7                       Bellwright  2024-04-23      280955  29.99  7481940.0   \n",
      "8                Night of the Dead  2024-05-31      394364  29.99  7091792.0   \n",
      "9       Empires of the Undergrowth  2024-06-07      408292  29.99  6950952.0   \n",
      "\n",
      "   avgPlaytime  reviewScore publisherClass                   publishers  \\\n",
      "0    42.365140           71            AAA                           2K   \n",
      "1    29.651061           57          Indie                  D3PUBLISHER   \n",
      "2    12.452593           88          Indie       Stardock Entertainment   \n",
      "3    24.797817           76          Indie  Paras Games,Obb Studio Inc.   \n",
      "4    34.258496           96             AA                         SEGA   \n",
      "5    95.697813           79          Indie                Qooland Games   \n",
      "6    16.868531           81          Indie                      Crytivo   \n",
      "7    41.418885           78          Indie  Donkey Crew,Snail Games USA   \n",
      "8    27.597072           79          Indie               Jackto Studios   \n",
      "9    38.602124           95             AA      Hooded Horse,Slug Disco   \n",
      "\n",
      "                                          developers  steamId  \n",
      "0                                    Visual Concepts  2315690  \n",
      "1                                            SANDLOT  2291060  \n",
      "2  Ironclad Games Corporation,Stardock Entertainment  1575940  \n",
      "3                                    Obb Studio Inc.  1859910  \n",
      "4                                              ATLUS  1875830  \n",
      "5                                    CampFire Studio  2646460  \n",
      "6                                            Crytivo   352720  \n",
      "7                                        Donkey Crew  1812450  \n",
      "8                                     Jackto Studios  1377380  \n",
      "9                                         Slug Disco   463530  \n"
     ]
    }
   ],
   "source": [
    "# Consultando os dados\n",
    "print(\"Dados da tabela 'games':\")\n",
    "print(con.execute(\"SELECT * FROM games LIMIT 10\").df())\n",
    "\n",
    "print(\"\\nDados da tabela 'steam_games':\")\n",
    "print(con.execute(\"SELECT * FROM steam_games LIMIT 10\").df())"
   ]
  },
  {
   "cell_type": "code",
   "execution_count": 6,
   "metadata": {},
   "outputs": [],
   "source": [
    "con.close()"
   ]
  }
 ],
 "metadata": {
  "kernelspec": {
   "display_name": "Python 3",
   "language": "python",
   "name": "python3"
  },
  "language_info": {
   "codemirror_mode": {
    "name": "ipython",
    "version": 3
   },
   "file_extension": ".py",
   "mimetype": "text/x-python",
   "name": "python",
   "nbconvert_exporter": "python",
   "pygments_lexer": "ipython3",
   "version": "3.12.2"
  }
 },
 "nbformat": 4,
 "nbformat_minor": 2
}
